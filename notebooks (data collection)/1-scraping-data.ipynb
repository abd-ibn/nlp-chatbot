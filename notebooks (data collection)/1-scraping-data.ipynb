{
 "cells": [
  {
   "cell_type": "code",
   "execution_count": 230,
   "id": "0c398b1c-ee6f-4c61-842d-2e980b76f7b7",
   "metadata": {},
   "outputs": [],
   "source": [
    "from bs4 import BeautifulSoup\n",
    "import pandas as pd\n",
    "\n",
    "def scrape_data(html_content):\n",
    "    # Parse the HTML content\n",
    "    soup = BeautifulSoup(html_content, \"html.parser\")\n",
    "\n",
    "    # Locate the specific div with the class 'elementor-element-7474ce69'\n",
    "    #target_div = soup.find(\"div\", class_=\"elementor-element-bd7a7fc\")\n",
    "    target_div = soup.find(\"div\", class_=\"elementor-element-8a39841\")\n",
    "\n",
    "\n",
    "    if target_div:\n",
    "        # Extract the text content from the target div, removing all HTML tags\n",
    "        text_content = target_div.get_text(separator=\"\\n\", strip=True)\n",
    "\n",
    "\n",
    "    # Extract the title of the page\n",
    "    page_title = soup.title.string\n",
    "\n",
    "    return page_title, text_content\n",
    "\n",
    "# Create a DataFrame to store the data\n",
    "#df = pd.DataFrame(columns=['page_title', 'text_content'])\n",
    "\n"
   ]
  },
  {
   "cell_type": "code",
   "execution_count": 231,
   "id": "7df07a58-2e60-43be-9a6a-816d47cfdcc3",
   "metadata": {},
   "outputs": [],
   "source": [
    "df = pd.read_csv(\"dataset.csv\")"
   ]
  },
  {
   "cell_type": "code",
   "execution_count": 217,
   "id": "fc66d48e-c281-4fd6-bc39-9a89cd04a5c4",
   "metadata": {},
   "outputs": [],
   "source": [
    "html_content = '''\n",
    "\n",
    "'''"
   ]
  },
  {
   "cell_type": "code",
   "execution_count": 213,
   "id": "95a36676-973b-4adc-bcef-ba764577ac88",
   "metadata": {},
   "outputs": [],
   "source": [
    "# Call the scrape_data function to extract data from the HTML content\n",
    "#page_title, text_content = scrape_data(html_content)\n",
    "\n",
    "# Append the extracted data to the DataFrame\n",
    "df = pd.concat([df, pd.DataFrame({'page_title': [page_title], 'text_content': [text_content]})], ignore_index=True)\n",
    "\n",
    "# Print the DataFrame\n",
    "#df"
   ]
  },
  {
   "cell_type": "code",
   "execution_count": 214,
   "id": "91131df9-88b3-4d89-8414-e21dc91f8b80",
   "metadata": {},
   "outputs": [],
   "source": [
    "#df = df.drop(df.index[-1])"
   ]
  },
  {
   "cell_type": "code",
   "execution_count": 227,
   "id": "4923bb97-b3f4-45d1-9a55-7e4aeb7489e7",
   "metadata": {},
   "outputs": [],
   "source": [
    "#del df['Unnamed: 0']"
   ]
  },
  {
   "cell_type": "code",
   "execution_count": 232,
   "id": "02dceed5-00d8-404d-8cb8-145063441d06",
   "metadata": {},
   "outputs": [
    {
     "data": {
      "text/html": [
       "<div>\n",
       "<style scoped>\n",
       "    .dataframe tbody tr th:only-of-type {\n",
       "        vertical-align: middle;\n",
       "    }\n",
       "\n",
       "    .dataframe tbody tr th {\n",
       "        vertical-align: top;\n",
       "    }\n",
       "\n",
       "    .dataframe thead th {\n",
       "        text-align: right;\n",
       "    }\n",
       "</style>\n",
       "<table border=\"1\" class=\"dataframe\">\n",
       "  <thead>\n",
       "    <tr style=\"text-align: right;\">\n",
       "      <th></th>\n",
       "      <th>page_title</th>\n",
       "      <th>text_content</th>\n",
       "    </tr>\n",
       "  </thead>\n",
       "  <tbody>\n",
       "    <tr>\n",
       "      <th>60</th>\n",
       "      <td>Club Génie civil – FST</td>\n",
       "      <td>Le Club Génie civil est un club scientifique d...</td>\n",
       "    </tr>\n",
       "    <tr>\n",
       "      <th>61</th>\n",
       "      <td>Club les sophistes – FST</td>\n",
       "      <td>https://www.facebook.com/SophistesFSTT</td>\n",
       "    </tr>\n",
       "    <tr>\n",
       "      <th>62</th>\n",
       "      <td>Club Design &amp; Photography – FST</td>\n",
       "      <td>Le « Club Design &amp; Photography », est une fili...</td>\n",
       "    </tr>\n",
       "    <tr>\n",
       "      <th>63</th>\n",
       "      <td>Club d’astronomie – FST</td>\n",
       "      <td>https://www.facebook.com/astrotanger Le Club d...</td>\n",
       "    </tr>\n",
       "    <tr>\n",
       "      <th>64</th>\n",
       "      <td>نادي القرآن الكريم – FST</td>\n",
       "      <td>هوية النادي ورسالته:\\nيشكل نادي اقرأ للقرآن ال...</td>\n",
       "    </tr>\n",
       "    <tr>\n",
       "      <th>65</th>\n",
       "      <td>Club Echec &amp; Mat – FST</td>\n",
       "      <td>https://www.facebook.com/pages/Club-Echec-et-M...</td>\n",
       "    </tr>\n",
       "    <tr>\n",
       "      <th>66</th>\n",
       "      <td>Club Enactus – FST</td>\n",
       "      <td>L’équipe ENACTUS  de la  Faculté des Sciences ...</td>\n",
       "    </tr>\n",
       "    <tr>\n",
       "      <th>67</th>\n",
       "      <td>Club Biotechnologie – FST</td>\n",
       "      <td>Le Club Biotechnologie est une organisation à ...</td>\n",
       "    </tr>\n",
       "    <tr>\n",
       "      <th>68</th>\n",
       "      <td>Future Leaders – FST</td>\n",
       "      <td>Are you the future leader of your community ? ...</td>\n",
       "    </tr>\n",
       "    <tr>\n",
       "      <th>69</th>\n",
       "      <td>Faculté des Sciences et Techniques de Tanger -...</td>\n",
       "      <td>La Faculté des sciences et techniques de Tange...</td>\n",
       "    </tr>\n",
       "  </tbody>\n",
       "</table>\n",
       "</div>"
      ],
      "text/plain": [
       "                                           page_title  \\\n",
       "60                             Club Génie civil – FST   \n",
       "61                           Club les sophistes – FST   \n",
       "62                    Club Design & Photography – FST   \n",
       "63                            Club d’astronomie – FST   \n",
       "64                           نادي القرآن الكريم – FST   \n",
       "65                             Club Echec & Mat – FST   \n",
       "66                                 Club Enactus – FST   \n",
       "67                          Club Biotechnologie – FST   \n",
       "68                               Future Leaders – FST   \n",
       "69  Faculté des Sciences et Techniques de Tanger -...   \n",
       "\n",
       "                                         text_content  \n",
       "60  Le Club Génie civil est un club scientifique d...  \n",
       "61             https://www.facebook.com/SophistesFSTT  \n",
       "62  Le « Club Design & Photography », est une fili...  \n",
       "63  https://www.facebook.com/astrotanger Le Club d...  \n",
       "64  هوية النادي ورسالته:\\nيشكل نادي اقرأ للقرآن ال...  \n",
       "65  https://www.facebook.com/pages/Club-Echec-et-M...  \n",
       "66  L’équipe ENACTUS  de la  Faculté des Sciences ...  \n",
       "67  Le Club Biotechnologie est une organisation à ...  \n",
       "68  Are you the future leader of your community ? ...  \n",
       "69  La Faculté des sciences et techniques de Tange...  "
      ]
     },
     "execution_count": 232,
     "metadata": {},
     "output_type": "execute_result"
    }
   ],
   "source": [
    "df.tail(10)"
   ]
  },
  {
   "cell_type": "code",
   "execution_count": 233,
   "id": "024f2c25-65fe-4519-bae7-1d16c8d9c5ea",
   "metadata": {},
   "outputs": [],
   "source": [
    "df.to_csv('dataset.csv',  index=False)"
   ]
  },
  {
   "cell_type": "code",
   "execution_count": null,
   "id": "ac84d368-b9a4-49a0-8aab-fddacd92453e",
   "metadata": {},
   "outputs": [],
   "source": []
  }
 ],
 "metadata": {
  "kernelspec": {
   "display_name": "Python 3 (ipykernel)",
   "language": "python",
   "name": "python3"
  },
  "language_info": {
   "codemirror_mode": {
    "name": "ipython",
    "version": 3
   },
   "file_extension": ".py",
   "mimetype": "text/x-python",
   "name": "python",
   "nbconvert_exporter": "python",
   "pygments_lexer": "ipython3",
   "version": "3.11.7"
  }
 },
 "nbformat": 4,
 "nbformat_minor": 5
}
